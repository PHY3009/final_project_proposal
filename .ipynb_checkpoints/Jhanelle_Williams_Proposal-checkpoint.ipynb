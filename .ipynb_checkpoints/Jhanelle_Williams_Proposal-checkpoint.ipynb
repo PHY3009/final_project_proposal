{
 "cells": [
  {
   "cell_type": "markdown",
   "metadata": {},
   "source": [
    "# Carbon Dioxide Concentrations in the Environment\n"
   ]
  },
  {
   "cell_type": "markdown",
   "metadata": {},
   "source": [
    "## Jhanelle Williams\n",
    "November 2, 2015\n",
    "Computation in the Physical Sciences\n",
    "Final Project Proposal"
   ]
  },
  {
   "cell_type": "markdown",
   "metadata": {},
   "source": [
    "##  Introduction\n",
    "In the equatorial regions there are increasing occurrences of drought, increased intensity of tropical storm along with other intense weather patterns that ravaged this area (David R. Easterling, et al.). These activities are attributed to global warming where an increase in carbon dioxide (CO2) is the resulting factor of this hazard (NASA). Many climate scientists sought the need to either implement mitigation or adaptation based solutions. Recently, in the neurobiology, neuroscientists developed experiments that provided ways of sensing CO2 in the environment. A better understanding of this problem, allows both disciplines to merge as climate scientists can use the collected data to help implement efficient and effective mitigation and adaptation solutions for communities seeing that there are better quantitative data on carbon dioxide concentrations. \n",
    "  Neuroscientists tested Caenorhabditis elegan (C. elegans) genes osm-5 and che-10 to determine if they sensed carbon dioxide in the environment. These are worms, C. elegans,are commonly found in the environment and are one of the few organisms that have their all their genomes sequenced thus it easier to make conclusions and link it to other organisms (University of Minnesota, College of Biological Sciences). These worms were placed in air and in environment surrounded by 10% carbon dioxide to clearly determine if there was any change in environment in a CO2 based environment.    \n",
    "Seeing that the osm-5 and che-10 genes of C. elegans are capable of sensing carbon dioxide in the atmosphere, how can climatologists use this understanding to better quantify the percentage of carbon dioxide in the atmosphere? It is likely these worms will sense carbon dioxide seeing that most species have a response mechanism for carbon dioxide. As the issue of increasing earth’s temperatures become more threatening, climate scientists will be looking for more innovative ways of quantifying the amount of carbon dioxide in the atmosphere.\n"
   ]
  },
  {
   "cell_type": "markdown",
   "metadata": {},
   "source": [
    "# Methods\n",
    "\n",
    "Using experimental data collected from a Multi-Worm Tracker (MWT) the necessary variable in the study can be quantitatively analyzed (Swierczek, N. A., Giles, A. C., Rankin, et. al. , 2011) . To complete this investigation the data will be programmed using Python, as this software is one of the most efficient software for the analysis. In Python, the pandas feature will be used to load and for data munging. From this a line graph of the variables will be displayed to clearly see the effect of particular variables on the process. Additionally statistical analysis will be completed to calculate the correlation coefficients of the variables in addition to T-test calculations. Examples of  variables to be considered and understood: speed vs time, these variables will give an indication of the reaction rate of the experiment. \n"
   ]
  },
  {
   "cell_type": "markdown",
   "metadata": {},
   "source": [
    "# Expected Outcome and Significance:\n",
    "\n",
    " It is expected that the data collected will have the following results:\n",
    "C. elegans will respond when CO2  is puffed on their petri dishes, however this will be dependent on the nutritional status of the worm (Swierczek, N. A., Giles, A. C., Rankin, et. al. , 2011). C. elegans in the carbon dioxide induced environment illustrated more backward and forward movement than those in non-induced carbon dioxide environment (Swierczek, N. A., Giles, A. C., Rankin, et. al. , 2011). This finding could provide explanation and understanding of the feeding patterns of these worms in the soil. In relation to future research this could help biologists to detect extremophiles in soil composition. Additionally, this will help chemists to estimate the provide the correct nutrient ratio for the soil seeing that organic matter such as C. elegans lifespan is affected by CO2.\n"
   ]
  },
  {
   "cell_type": "markdown",
   "metadata": {
    "collapsed": true
   },
   "source": [
    "## Comments\n",
    "* add year to references in the text\n",
    "* should have a list of references at the bottom of your proposal\n",
    "* the purpose of the *C. elegans* experiments your describe was not to invent a new way to quantitate the amount of CO2 in the environment, but to try to test if either of those molecules are important for CO2 sensation in *C. elegans*. \n",
    "* you need to cite the at least 1 of the many *C. elegans* papers which look at CO2 sensation and *C. elegans* since this is the focus of your project.\n",
    "* what is the necessary variable in the study?\n",
    "* Swierczek *et al.,* 2011 never looked at CO2 - you are either citing the wrong paper or making this up.\n",
    "* what paper says that *C. elegans* lifespan is affected by CO2? You need to cite things that are not common knowledge."
   ]
  },
  {
   "cell_type": "code",
   "execution_count": null,
   "metadata": {
    "collapsed": true
   },
   "outputs": [],
   "source": []
  }
 ],
 "metadata": {
  "kernelspec": {
   "display_name": "Python 3",
   "language": "python",
   "name": "python3"
  },
  "language_info": {
   "codemirror_mode": {
    "name": "ipython",
    "version": 3
   },
   "file_extension": ".py",
   "mimetype": "text/x-python",
   "name": "python",
   "nbconvert_exporter": "python",
   "pygments_lexer": "ipython3",
   "version": "3.4.3"
  }
 },
 "nbformat": 4,
 "nbformat_minor": 0
}
